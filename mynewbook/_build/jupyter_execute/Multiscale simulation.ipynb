{
 "cells": [
  {
   "cell_type": "markdown",
   "id": "2cce41a6",
   "metadata": {},
   "source": [
    "# Multiscale simulation\n",
    "Hierarchical material systems are widespread in nature. A myriad of concurrent simulation techniques has been developed to model the mechanical behavior of hierarchical multiscale materials. In these techniques, the macro-scale simulation can be done using traditional numerical methods such as finite element analysis whereas the micro-scale analysis can use finite element {cite}`feyel2000fe2` or fast Fourier transform-based method\\cite{kochmann2016two}. The total degree of freedom (DOF) of the system equals to DOF of the micro scale multiplied by DOF of the macro scale. As a result, one common drawback of these methods is the exorbitant computational cost, especially when the DOF of the micro scale is large. To this end, various reduced-order modeling techniques have been applied to micro-scale simulation problems to reduce the computational cost {cite}`michel2003nonuniform,yvonnet2007reduced,ladeveze2010latin,liu2016self`. Among them, Self-consistent clustering analysis (SCA) is a mechanistic, data-driven method that can model the mechanical response of micro-scale problems while efficiently saving computational time using the $k$-means clustering algorithm."
   ]
  },
  {
   "cell_type": "code",
   "execution_count": 1,
   "id": "8cb3026d",
   "metadata": {},
   "outputs": [
    {
     "name": "stdout",
     "output_type": "stream",
     "text": [
      "4\n",
      "Hello World\n"
     ]
    }
   ],
   "source": [
    "print(2 + 2)\n",
    "print('Hello World')"
   ]
  },
  {
   "cell_type": "markdown",
   "id": "17651f53",
   "metadata": {},
   "source": [
    "When your book is built, the contents of any `{code-cell}` blocks will be\n",
    "executed with your default Jupyter kernel, and their outputs will be displayed\n",
    "in-line with the rest of your content.\n",
    "\n",
    "```{seealso}\n",
    "Jupyter Book uses [Jupytext](https://jupytext.readthedocs.io/en/latest/) to convert text-based files to notebooks, and can support [many other text-based notebook files](https://jupyterbook.org/file-types/jupytext.html).\n",
    "```\n",
    "\n",
    "## Create a notebook with MyST Markdown\n",
    "\n",
    "MyST Markdown notebooks are defined by two things:\n",
    "\n",
    "1. YAML metadata that is needed to understand if / how it should convert text files to notebooks (including information about the kernel needed).\n",
    "   See the YAML at the top of this page for example.\n",
    "2. The presence of `{code-cell}` directives, which will be executed with your book.\n",
    "\n",
    "That's all that is needed to get started!\n",
    "\n",
    "## Quickly add YAML metadata for MyST Notebooks\n",
    "\n",
    "If you have a markdown file and you'd like to quickly add YAML metadata to it, so that Jupyter Book will treat it as a MyST Markdown Notebook, run the following command:\n",
    "\n",
    "```\n",
    "jupyter-book myst init path/to/markdownfile.md\n",
    "```\n",
    "\n",
    "```{bibliography}\n",
    "```"
   ]
  }
 ],
 "metadata": {
  "jupytext": {
   "formats": "md:myst",
   "text_representation": {
    "extension": ".md",
    "format_name": "myst",
    "format_version": 0.13,
    "jupytext_version": "1.11.5"
   }
  },
  "kernelspec": {
   "display_name": "Python 3",
   "language": "python",
   "name": "python3"
  },
  "language_info": {
   "codemirror_mode": {
    "name": "ipython",
    "version": 3
   },
   "file_extension": ".py",
   "mimetype": "text/x-python",
   "name": "python",
   "nbconvert_exporter": "python",
   "pygments_lexer": "ipython3",
   "version": "3.10.6"
  },
  "source_map": [
   13,
   18,
   21
  ]
 },
 "nbformat": 4,
 "nbformat_minor": 5
}